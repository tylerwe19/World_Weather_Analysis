{
 "cells": [
  {
   "cell_type": "code",
   "execution_count": 1,
   "id": "4957c8df",
   "metadata": {},
   "outputs": [],
   "source": [
    "#Import dependencies\n",
    "import pandas as pd\n",
    "import matplotlib.pyplot as plt\n",
    "import numpy as np"
   ]
  },
  {
   "cell_type": "code",
   "execution_count": 2,
   "id": "a262337d",
   "metadata": {},
   "outputs": [
    {
     "data": {
      "text/plain": [
       "<zip at 0x1d2a9277e88>"
      ]
     },
     "execution_count": 2,
     "metadata": {},
     "output_type": "execute_result"
    }
   ],
   "source": [
    "# Create a set of random latitude and longitude combinations\n",
    "lats = np.random.uniform(low=-90.000,high=90.000,size=1500)\n",
    "lngs = np.random.uniform(low=-180.000,high=180.000,size=1500)\n",
    "lat_lngs= zip(lats,lngs)\n",
    "lat_lngs"
   ]
  },
  {
   "cell_type": "code",
   "execution_count": 3,
   "id": "e9849388",
   "metadata": {},
   "outputs": [],
   "source": [
    "#You can only unzip a zipped tuple once before it is removed from the computer's memory.\n",
    "#Make sure you unzip the latitudes and longitudes into the coordinates list before moving on.\n",
    "coordinates = list(lat_lngs)"
   ]
  },
  {
   "cell_type": "code",
   "execution_count": 4,
   "id": "767a2df7",
   "metadata": {},
   "outputs": [],
   "source": [
    "from citipy import citipy"
   ]
  },
  {
   "cell_type": "code",
   "execution_count": 5,
   "id": "a2f10167",
   "metadata": {},
   "outputs": [
    {
     "data": {
      "text/plain": [
       "599"
      ]
     },
     "execution_count": 5,
     "metadata": {},
     "output_type": "execute_result"
    }
   ],
   "source": [
    "#Create a list for holding the cities\n",
    "cities =[]\n",
    "#ID the nearest city for each lat and long combo\n",
    "for coordinate in coordinates:\n",
    "    city=citipy.nearest_city(coordinate[0],coordinate[1]).city_name\n",
    "    \n",
    "    #If the city is unique, then we will add it to the cities list.\n",
    "    if city not in cities:\n",
    "        cities.append(city)\n",
    "#Print the city count to confirm sufficient count\n",
    "len(cities)"
   ]
  },
  {
   "cell_type": "code",
   "execution_count": 6,
   "id": "075ec121",
   "metadata": {},
   "outputs": [],
   "source": [
    "# Import the requests library.\n",
    "import requests\n",
    "\n",
    "# Import the API key.\n",
    "from config import weather_api_key"
   ]
  },
  {
   "cell_type": "code",
   "execution_count": 7,
   "id": "16fc831e",
   "metadata": {},
   "outputs": [
    {
     "name": "stdout",
     "output_type": "stream",
     "text": [
      "http://api.openweathermap.org/data/2.5/weather?units=Imperial&APPID=670372a22b93f6558998ec6f52a01fd5\n"
     ]
    }
   ],
   "source": [
    "# Starting URL for Weather Map API Call.\n",
    "url = \"http://api.openweathermap.org/data/2.5/weather?units=Imperial&APPID=\" + weather_api_key\n",
    "print(url)"
   ]
  },
  {
   "cell_type": "code",
   "execution_count": 8,
   "id": "4b7e962a",
   "metadata": {},
   "outputs": [
    {
     "name": "stdout",
     "output_type": "stream",
     "text": [
      "http://api.openweathermap.org/data/2.5/weather?units=Imperial&APPID=670372a22b93f6558998ec6f52a01fd5&q=Boston\n"
     ]
    }
   ],
   "source": [
    "#Create an endpoint URL for a city - will make URL actually work\n",
    "city_url = url+\"&q=\"+\"Boston\"\n",
    "print(city_url)"
   ]
  },
  {
   "cell_type": "code",
   "execution_count": 9,
   "id": "9057e874",
   "metadata": {},
   "outputs": [
    {
     "data": {
      "text/plain": [
       "<Response [200]>"
      ]
     },
     "execution_count": 9,
     "metadata": {},
     "output_type": "execute_result"
    }
   ],
   "source": [
    "#Make a \"Get\" request for the city weather\n",
    "city_weather = requests.get(city_url)\n",
    "city_weather"
   ]
  },
  {
   "cell_type": "code",
   "execution_count": 10,
   "id": "393d5d63",
   "metadata": {},
   "outputs": [
    {
     "data": {
      "text/plain": [
       "'{\"coord\":{\"lon\":-71.0598,\"lat\":42.3584},\"weather\":[{\"id\":500,\"main\":\"Rain\",\"description\":\"light rain\",\"icon\":\"10n\"}],\"base\":\"stations\",\"main\":{\"temp\":50.83,\"feels_like\":49.46,\"temp_min\":47.55,\"temp_max\":53.15,\"pressure\":1029,\"humidity\":82},\"visibility\":10000,\"wind\":{\"speed\":7,\"deg\":130,\"gust\":11.99},\"rain\":{\"1h\":0.86},\"clouds\":{\"all\":100},\"dt\":1670370017,\"sys\":{\"type\":2,\"id\":2013408,\"country\":\"US\",\"sunrise\":1670327941,\"sunset\":1670361114},\"timezone\":-18000,\"id\":4930956,\"name\":\"Boston\",\"cod\":200}'"
      ]
     },
     "execution_count": 10,
     "metadata": {},
     "output_type": "execute_result"
    }
   ],
   "source": [
    "city_weather.text"
   ]
  },
  {
   "cell_type": "code",
   "execution_count": 11,
   "id": "1ca9c531",
   "metadata": {},
   "outputs": [
    {
     "data": {
      "text/plain": [
       "{'coord': {'lon': -71.0598, 'lat': 42.3584},\n",
       " 'weather': [{'id': 500,\n",
       "   'main': 'Rain',\n",
       "   'description': 'light rain',\n",
       "   'icon': '10n'}],\n",
       " 'base': 'stations',\n",
       " 'main': {'temp': 50.83,\n",
       "  'feels_like': 49.46,\n",
       "  'temp_min': 47.55,\n",
       "  'temp_max': 53.15,\n",
       "  'pressure': 1029,\n",
       "  'humidity': 82},\n",
       " 'visibility': 10000,\n",
       " 'wind': {'speed': 7, 'deg': 130, 'gust': 11.99},\n",
       " 'rain': {'1h': 0.86},\n",
       " 'clouds': {'all': 100},\n",
       " 'dt': 1670370017,\n",
       " 'sys': {'type': 2,\n",
       "  'id': 2013408,\n",
       "  'country': 'US',\n",
       "  'sunrise': 1670327941,\n",
       "  'sunset': 1670361114},\n",
       " 'timezone': -18000,\n",
       " 'id': 4930956,\n",
       " 'name': 'Boston',\n",
       " 'cod': 200}"
      ]
     },
     "execution_count": 11,
     "metadata": {},
     "output_type": "execute_result"
    }
   ],
   "source": [
    "city_weather.json()"
   ]
  },
  {
   "cell_type": "code",
   "execution_count": 12,
   "id": "f5810320",
   "metadata": {},
   "outputs": [
    {
     "name": "stdout",
     "output_type": "stream",
     "text": [
      "City Weather found.\n"
     ]
    }
   ],
   "source": [
    "if city_weather.status_code == 200:\n",
    "    print(f\"City Weather found.\")\n",
    "else:\n",
    "    print(f\"City weather not found.\")"
   ]
  },
  {
   "cell_type": "code",
   "execution_count": 13,
   "id": "cceff05a",
   "metadata": {},
   "outputs": [
    {
     "data": {
      "text/plain": [
       "{'coord': {'lon': -71.0598, 'lat': 42.3584},\n",
       " 'weather': [{'id': 500,\n",
       "   'main': 'Rain',\n",
       "   'description': 'light rain',\n",
       "   'icon': '10n'}],\n",
       " 'base': 'stations',\n",
       " 'main': {'temp': 50.83,\n",
       "  'feels_like': 49.46,\n",
       "  'temp_min': 47.55,\n",
       "  'temp_max': 53.15,\n",
       "  'pressure': 1029,\n",
       "  'humidity': 82},\n",
       " 'visibility': 10000,\n",
       " 'wind': {'speed': 7, 'deg': 130, 'gust': 11.99},\n",
       " 'rain': {'1h': 0.86},\n",
       " 'clouds': {'all': 100},\n",
       " 'dt': 1670370017,\n",
       " 'sys': {'type': 2,\n",
       "  'id': 2013408,\n",
       "  'country': 'US',\n",
       "  'sunrise': 1670327941,\n",
       "  'sunset': 1670361114},\n",
       " 'timezone': -18000,\n",
       " 'id': 4930956,\n",
       " 'name': 'Boston',\n",
       " 'cod': 200}"
      ]
     },
     "execution_count": 13,
     "metadata": {},
     "output_type": "execute_result"
    }
   ],
   "source": [
    "# Create an endpoint URL for a city.\n",
    "city_url = url + \"&q=\" + \"Boston\"\n",
    "city_weather = requests.get(city_url)\n",
    "city_weather.json()"
   ]
  },
  {
   "cell_type": "code",
   "execution_count": 14,
   "id": "2e62a740",
   "metadata": {},
   "outputs": [],
   "source": [
    "boston_data = city_weather.json()"
   ]
  },
  {
   "cell_type": "code",
   "execution_count": 15,
   "id": "dd1725d0",
   "metadata": {},
   "outputs": [
    {
     "data": {
      "text/plain": [
       "'US'"
      ]
     },
     "execution_count": 15,
     "metadata": {},
     "output_type": "execute_result"
    }
   ],
   "source": [
    "boston_data['sys']['country']"
   ]
  },
  {
   "cell_type": "code",
   "execution_count": 16,
   "id": "2ce5e85b",
   "metadata": {},
   "outputs": [
    {
     "data": {
      "text/plain": [
       "1670370017"
      ]
     },
     "execution_count": 16,
     "metadata": {},
     "output_type": "execute_result"
    }
   ],
   "source": [
    "boston_data[\"dt\"]"
   ]
  },
  {
   "cell_type": "code",
   "execution_count": 17,
   "id": "691de923",
   "metadata": {},
   "outputs": [
    {
     "name": "stdout",
     "output_type": "stream",
     "text": [
      "42.3584 -71.0598 53.15 82 100 7\n"
     ]
    }
   ],
   "source": [
    "lat = boston_data[\"coord\"][\"lat\"]\n",
    "lng = boston_data[\"coord\"][\"lon\"]\n",
    "max_temp = boston_data[\"main\"][\"temp_max\"]\n",
    "humidity = boston_data[\"main\"][\"humidity\"]\n",
    "clouds = boston_data[\"clouds\"][\"all\"]\n",
    "wind = boston_data[\"wind\"][\"speed\"]\n",
    "print(lat,lng,max_temp,humidity,clouds,wind)"
   ]
  },
  {
   "cell_type": "code",
   "execution_count": 18,
   "id": "d826d39d",
   "metadata": {},
   "outputs": [
    {
     "data": {
      "text/plain": [
       "datetime.datetime(2022, 12, 6, 23, 40, 17)"
      ]
     },
     "execution_count": 18,
     "metadata": {},
     "output_type": "execute_result"
    }
   ],
   "source": [
    "#Converting seconds into date and time\n",
    "#Import the datetime module from datetime library\n",
    "from datetime import datetime\n",
    "date = boston_data[\"dt\"]\n",
    "#Convert the UTC datte to a YYYY-MM-DD-HH-MM-SS\n",
    "datetime.utcfromtimestamp(date)"
   ]
  },
  {
   "cell_type": "code",
   "execution_count": 19,
   "id": "14038a2b",
   "metadata": {},
   "outputs": [
    {
     "data": {
      "text/plain": [
       "'2022-12-06 23:40:17'"
      ]
     },
     "execution_count": 19,
     "metadata": {},
     "output_type": "execute_result"
    }
   ],
   "source": [
    "datetime.utcfromtimestamp(date).strftime('%Y-%m-%d %H:%M:%S')"
   ]
  },
  {
   "cell_type": "code",
   "execution_count": 20,
   "id": "b6cafed9",
   "metadata": {},
   "outputs": [],
   "source": [
    "#Iterating over all cities and finding the weather for all cities"
   ]
  },
  {
   "cell_type": "code",
   "execution_count": 21,
   "id": "c36312db",
   "metadata": {},
   "outputs": [],
   "source": [
    "#Import time and datetime libraries\n",
    "import time\n",
    "from datetime import datetime"
   ]
  },
  {
   "cell_type": "code",
   "execution_count": 22,
   "id": "19cfc3e3",
   "metadata": {},
   "outputs": [
    {
     "name": "stdout",
     "output_type": "stream",
     "text": [
      "Beginning Data Retrieval   \n",
      "----------------------------\n"
     ]
    }
   ],
   "source": [
    "#Create empty list to hold weather data\n",
    "city_data = []\n",
    "\n",
    "#Print beginning of the logging\n",
    "print(\"Beginning Data Retrieval   \")\n",
    "print(\"----------------------------\")\n",
    "\n",
    "#Create counters\n",
    "record_count = 1\n",
    "set_count = 1"
   ]
  },
  {
   "cell_type": "code",
   "execution_count": 23,
   "id": "c9100e7a",
   "metadata": {},
   "outputs": [
    {
     "ename": "KeyboardInterrupt",
     "evalue": "",
     "output_type": "error",
     "traceback": [
      "\u001b[1;31m---------------------------------------------------------------------------\u001b[0m",
      "\u001b[1;31mKeyboardInterrupt\u001b[0m                         Traceback (most recent call last)",
      "\u001b[1;32m~\\AppData\\Local\\Temp\\ipykernel_16704\\2028372493.py\u001b[0m in \u001b[0;36m<module>\u001b[1;34m\u001b[0m\n\u001b[0;32m      5\u001b[0m         \u001b[0mset_count\u001b[0m \u001b[1;33m+=\u001b[0m \u001b[1;36m1\u001b[0m\u001b[1;33m\u001b[0m\u001b[1;33m\u001b[0m\u001b[0m\n\u001b[0;32m      6\u001b[0m         \u001b[0mrecord_count\u001b[0m \u001b[1;33m=\u001b[0m \u001b[1;36m1\u001b[0m\u001b[1;33m\u001b[0m\u001b[1;33m\u001b[0m\u001b[0m\n\u001b[1;32m----> 7\u001b[1;33m         \u001b[0mtime\u001b[0m\u001b[1;33m.\u001b[0m\u001b[0msleep\u001b[0m\u001b[1;33m(\u001b[0m\u001b[1;36m60\u001b[0m\u001b[1;33m)\u001b[0m\u001b[1;33m\u001b[0m\u001b[1;33m\u001b[0m\u001b[0m\n\u001b[0m\u001b[0;32m      8\u001b[0m     \u001b[1;31m#Create endpoint URL with each city\u001b[0m\u001b[1;33m\u001b[0m\u001b[1;33m\u001b[0m\u001b[1;33m\u001b[0m\u001b[0m\n\u001b[0;32m      9\u001b[0m     \u001b[0mcity_url\u001b[0m \u001b[1;33m=\u001b[0m \u001b[0murl\u001b[0m \u001b[1;33m+\u001b[0m \u001b[1;34m\"&q=\"\u001b[0m \u001b[1;33m+\u001b[0m \u001b[0mcities\u001b[0m\u001b[1;33m[\u001b[0m\u001b[0mi\u001b[0m\u001b[1;33m]\u001b[0m\u001b[1;33m\u001b[0m\u001b[1;33m\u001b[0m\u001b[0m\n",
      "\u001b[1;31mKeyboardInterrupt\u001b[0m: "
     ]
    }
   ],
   "source": [
    "#Loop through all cities in our list\n",
    "for i in range(len(cities)):\n",
    "    #Group cities in sets of 50 for logging purposes\n",
    "    if (i % 50 == 0 and i >= 50):\n",
    "        set_count += 1\n",
    "        record_count = 1\n",
    "        time.sleep(60)\n",
    "    #Create endpoint URL with each city\n",
    "    city_url = url + \"&q=\" + cities[i]\n",
    "#Will just provide city index - url will not work bc there's no city name"
   ]
  },
  {
   "cell_type": "code",
   "execution_count": null,
   "id": "80738473",
   "metadata": {},
   "outputs": [
    {
     "name": "stdout",
     "output_type": "stream",
     "text": [
      "Processing Record 1 of Set 4 | mareeba\n",
      "Processing Record 2 of Set 4 | pringsewu\n",
      "Processing Record 3 of Set 4 | albany\n",
      "Processing Record 4 of Set 4 | butaritari\n",
      "Processing Record 5 of Set 4 | vardo\n",
      "Processing Record 6 of Set 4 | qaanaaq\n",
      "Processing Record 7 of Set 4 | jamestown\n",
      "Processing Record 8 of Set 4 | chuy\n",
      "Processing Record 9 of Set 4 | hobart\n",
      "Processing Record 10 of Set 4 | saint-philippe\n",
      "Processing Record 11 of Set 4 | dingle\n",
      "Processing Record 12 of Set 4 | ostrovnoy\n",
      "Processing Record 13 of Set 4 | georgetown\n",
      "Processing Record 14 of Set 4 | ushuaia\n",
      "Processing Record 15 of Set 4 | salalah\n",
      "Processing Record 16 of Set 4 | horqueta\n",
      "Processing Record 17 of Set 4 | hermanus\n",
      "Processing Record 18 of Set 4 | soyo\n",
      "Processing Record 19 of Set 4 | faanui\n",
      "Processing Record 20 of Set 4 | naze\n",
      "Processing Record 21 of Set 4 | natal\n",
      "Processing Record 22 of Set 4 | carnarvon\n",
      "Processing Record 23 of Set 4 | norman wells\n",
      "Processing Record 24 of Set 4 | svencionys\n",
      "Processing Record 25 of Set 4 | cape town\n",
      "Processing Record 26 of Set 4 | najran\n",
      "Processing Record 27 of Set 4 | chokurdakh\n",
      "Processing Record 28 of Set 4 | columbus\n",
      "Processing Record 29 of Set 4 | oksfjord\n",
      "Processing Record 30 of Set 4 | rikitea\n",
      "Processing Record 31 of Set 4 | mayo\n",
      "Processing Record 32 of Set 4 | hithadhoo\n",
      "Processing Record 33 of Set 4 | avarua\n",
      "Processing Record 34 of Set 4 | dali\n",
      "Processing Record 35 of Set 4 | vaini\n",
      "Processing Record 36 of Set 4 | nanakuli\n",
      "Processing Record 37 of Set 4 | illoqqortoormiut\n",
      "Processing Record 38 of Set 4 | harihar\n",
      "Processing Record 39 of Set 4 | grand river south east\n",
      "Processing Record 40 of Set 4 | tomigusuku\n",
      "Processing Record 41 of Set 4 | namibe\n",
      "Processing Record 42 of Set 4 | tsihombe\n",
      "Processing Record 43 of Set 4 | port augusta\n",
      "Processing Record 44 of Set 4 | roald\n",
      "Processing Record 45 of Set 4 | san francisco\n",
      "Processing Record 46 of Set 4 | longyearbyen\n",
      "Processing Record 47 of Set 4 | tuktoyaktuk\n",
      "Processing Record 48 of Set 4 | port macquarie\n",
      "Processing Record 49 of Set 4 | san quintin\n",
      "Processing Record 50 of Set 4 | batemans bay\n",
      "Processing Record 1 of Set 5 | mount isa\n",
      "Processing Record 2 of Set 5 | punta arenas\n",
      "Processing Record 3 of Set 5 | general roca\n",
      "Processing Record 4 of Set 5 | lima\n",
      "Processing Record 5 of Set 5 | nizhneyansk\n",
      "Processing Record 6 of Set 5 | kapaa\n",
      "Processing Record 7 of Set 5 | constitucion\n",
      "Processing Record 8 of Set 5 | tlahualilo\n",
      "Processing Record 9 of Set 5 | port alfred\n",
      "Processing Record 10 of Set 5 | new norfolk\n",
      "Processing Record 11 of Set 5 | yulara\n",
      "Processing Record 12 of Set 5 | lamani\n",
      "Processing Record 13 of Set 5 | mataura\n",
      "Processing Record 14 of Set 5 | berbera\n",
      "Processing Record 15 of Set 5 | kautokeino\n",
      "Processing Record 16 of Set 5 | klaksvik\n",
      "Processing Record 17 of Set 5 | castro\n",
      "Processing Record 18 of Set 5 | vila franca do campo\n",
      "Processing Record 19 of Set 5 | talnakh\n",
      "Processing Record 20 of Set 5 | kavaratti\n",
      "Processing Record 21 of Set 5 | hilo\n",
      "Processing Record 22 of Set 5 | el faiyum\n",
      "Processing Record 23 of Set 5 | alofi\n",
      "Processing Record 24 of Set 5 | barrow\n",
      "Processing Record 25 of Set 5 | atuona\n",
      "Processing Record 26 of Set 5 | esperance\n",
      "Processing Record 27 of Set 5 | sur\n",
      "Processing Record 28 of Set 5 | karratha\n",
      "Processing Record 29 of Set 5 | tromso\n",
      "Processing Record 30 of Set 5 | bluff\n",
      "Processing Record 31 of Set 5 | iqaluit\n",
      "Processing Record 32 of Set 5 | severo-kurilsk\n",
      "Processing Record 33 of Set 5 | saint-avold\n",
      "Processing Record 34 of Set 5 | cayenne\n",
      "Processing Record 35 of Set 5 | mikun\n",
      "Processing Record 36 of Set 5 | nanortalik\n",
      "Processing Record 37 of Set 5 | manta\n",
      "Processing Record 38 of Set 5 | codrington\n",
      "Processing Record 39 of Set 5 | cherskiy\n",
      "Processing Record 40 of Set 5 | pisco\n",
      "Processing Record 41 of Set 5 | hay river\n",
      "Processing Record 42 of Set 5 | sola\n",
      "Processing Record 43 of Set 5 | leningradskiy\n",
      "Processing Record 44 of Set 5 | rio gallegos\n",
      "Processing Record 45 of Set 5 | vaitupu\n",
      "Processing Record 46 of Set 5 | taolanaro\n",
      "Processing Record 47 of Set 5 | asau\n",
      "Processing Record 48 of Set 5 | ambanja\n",
      "Processing Record 49 of Set 5 | kiama\n",
      "Processing Record 50 of Set 5 | tiksi\n",
      "Processing Record 1 of Set 6 | victoria\n",
      "Processing Record 2 of Set 6 | konya\n",
      "Processing Record 3 of Set 6 | middelburg\n",
      "Processing Record 4 of Set 6 | kysyl-syr\n",
      "Processing Record 5 of Set 6 | plaster rock\n",
      "Processing Record 6 of Set 6 | macusani\n",
      "Processing Record 7 of Set 6 | coquimbo\n",
      "Processing Record 8 of Set 6 | saint-georges\n",
      "Processing Record 9 of Set 6 | broome\n",
      "Processing Record 10 of Set 6 | guerrero negro\n",
      "Processing Record 11 of Set 6 | kruisfontein\n",
      "Processing Record 12 of Set 6 | zyryanovsk\n",
      "Processing Record 13 of Set 6 | busselton\n",
      "Processing Record 14 of Set 6 | caravelas\n",
      "Processing Record 15 of Set 6 | san matias\n",
      "Processing Record 16 of Set 6 | khatanga\n",
      "Processing Record 17 of Set 6 | makakilo city\n",
      "Processing Record 18 of Set 6 | cabo san lucas\n",
      "Processing Record 19 of Set 6 | vicksburg\n",
      "Processing Record 20 of Set 6 | airai\n",
      "Processing Record 21 of Set 6 | upernavik\n",
      "Processing Record 22 of Set 6 | kodiak\n",
      "Processing Record 23 of Set 6 | baykit\n",
      "Processing Record 24 of Set 6 | san patricio\n",
      "Processing Record 25 of Set 6 | bethel\n",
      "Processing Record 26 of Set 6 | rapid valley\n",
      "Processing Record 27 of Set 6 | egvekinot\n",
      "Processing Record 28 of Set 6 | barentsburg\n",
      "Processing Record 29 of Set 6 | ust-tsilma\n",
      "Processing Record 30 of Set 6 | pak phanang\n",
      "Processing Record 31 of Set 6 | moiyabana\n",
      "Processing Record 32 of Set 6 | puerto ayora\n",
      "Processing Record 33 of Set 6 | shelburne\n",
      "Processing Record 34 of Set 6 | beyneu\n",
      "Processing Record 35 of Set 6 | arraial do cabo\n",
      "Processing Record 36 of Set 6 | innisfail\n",
      "Processing Record 37 of Set 6 | imeni poliny osipenko\n",
      "Processing Record 38 of Set 6 | bredasdorp\n",
      "Processing Record 39 of Set 6 | lorengau\n",
      "Processing Record 40 of Set 6 | comodoro rivadavia\n",
      "Processing Record 41 of Set 6 | mys shmidta\n",
      "Processing Record 42 of Set 6 | rafraf\n",
      "Processing Record 43 of Set 6 | ribeira grande\n",
      "Processing Record 44 of Set 6 | beloha\n",
      "Processing Record 45 of Set 6 | changde\n",
      "Processing Record 46 of Set 6 | pangai\n",
      "Processing Record 47 of Set 6 | itanhaem\n",
      "Processing Record 48 of Set 6 | fortuna\n",
      "Processing Record 49 of Set 6 | ilulissat\n",
      "Processing Record 50 of Set 6 | iralaya\n",
      "Processing Record 1 of Set 7 | kavieng\n",
      "Processing Record 2 of Set 7 | attawapiskat\n",
      "Processing Record 3 of Set 7 | saint-pierre\n",
      "Processing Record 4 of Set 7 | hasaki\n",
      "Processing Record 5 of Set 7 | mungwi\n",
      "Processing Record 6 of Set 7 | nur\n",
      "Processing Record 7 of Set 7 | tautira\n",
      "Processing Record 8 of Set 7 | pithora\n",
      "Processing Record 9 of Set 7 | dikson\n",
      "Processing Record 10 of Set 7 | shache\n",
      "Processing Record 11 of Set 7 | okato\n",
      "Processing Record 12 of Set 7 | yellowknife\n",
      "Processing Record 13 of Set 7 | chifeng\n",
      "Processing Record 14 of Set 7 | torbay\n",
      "Processing Record 15 of Set 7 | xixiang\n",
      "Processing Record 16 of Set 7 | henties bay\n",
      "Processing Record 17 of Set 7 | ixtapa\n",
      "Processing Record 18 of Set 7 | port elizabeth\n",
      "Processing Record 19 of Set 7 | saleaula\n",
      "Processing Record 20 of Set 7 | necochea\n",
      "Processing Record 21 of Set 7 | hofn\n",
      "Processing Record 22 of Set 7 | ulaangom\n",
      "Processing Record 23 of Set 7 | ion corvin\n",
      "Processing Record 24 of Set 7 | kupang\n",
      "Processing Record 25 of Set 7 | mahebourg\n",
      "Processing Record 26 of Set 7 | bahir dar\n",
      "Processing Record 27 of Set 7 | college station\n",
      "Processing Record 28 of Set 7 | vaitape\n",
      "Processing Record 29 of Set 7 | shkotovo-26\n",
      "Processing Record 30 of Set 7 | tamiahua\n",
      "Processing Record 31 of Set 7 | los llanos de aridane\n",
      "Processing Record 32 of Set 7 | touros\n",
      "Processing Record 33 of Set 7 | nikolskoye\n",
      "Processing Record 34 of Set 7 | kamenskoye\n",
      "Processing Record 35 of Set 7 | barcelos\n",
      "Processing Record 36 of Set 7 | hambantota\n",
      "Processing Record 37 of Set 7 | cidreira\n",
      "Processing Record 38 of Set 7 | doha\n",
      "Processing Record 39 of Set 7 | port hardy\n",
      "Processing Record 40 of Set 7 | saskylakh\n",
      "Processing Record 41 of Set 7 | freeport\n",
      "Processing Record 42 of Set 7 | babanusah\n",
      "Processing Record 43 of Set 7 | menongue\n",
      "Processing Record 44 of Set 7 | iwanai\n",
      "Processing Record 45 of Set 7 | houma\n",
      "Processing Record 46 of Set 7 | clyde river\n",
      "Processing Record 47 of Set 7 | mitchell\n",
      "Processing Record 48 of Set 7 | katsuura\n",
      "Processing Record 49 of Set 7 | urumqi\n",
      "Processing Record 50 of Set 7 | atar\n"
     ]
    }
   ],
   "source": [
    "#Loop through all cities in our list\n",
    "for i, city in enumerate(cities):\n",
    "    #Group cities in sets of 50 for logging purposes\n",
    "    if (i % 50 == 0 and i >=50):\n",
    "        set_count += 1\n",
    "        record_count = 1\n",
    "        time.sleep(60)\n",
    "    #Create endpoint URL with each city\n",
    "    city_url = url + \"&q=\" + city.replace(\" \",\"+\")\n",
    "    \n",
    "    #Log URL, record, set numbers and the city\n",
    "    print(f\"Processing Record {record_count} of Set {set_count} | {city}\")\n",
    "    #Add 1 to record count\n",
    "    record_count += 1    \n"
   ]
  },
  {
   "cell_type": "code",
   "execution_count": 24,
   "id": "e79000cf",
   "metadata": {},
   "outputs": [
    {
     "name": "stdout",
     "output_type": "stream",
     "text": [
      "City not found. Skipping...\n",
      "-----------------------------\n",
      "Data Retrieval Complete      \n",
      "-----------------------------\n"
     ]
    }
   ],
   "source": [
    "# Run an API request for each of the cities.\n",
    "try:\n",
    "        # Parse the JSON and retrieve data.\n",
    "        city_weather = requests.get(city_url).json()\n",
    "        # Parse out the needed data.\n",
    "        city_lat = city_weather[\"coord\"][\"lat\"]\n",
    "        city_lng = city_weather[\"coord\"][\"lon\"]\n",
    "        city_max_temp = city_weather[\"main\"][\"temp_max\"]\n",
    "        city_humidity = city_weather[\"main\"][\"humidity\"]\n",
    "        city_clouds = city_weather[\"clouds\"][\"all\"]\n",
    "        city_wind = city_weather[\"wind\"][\"speed\"]\n",
    "        city_country = city_weather[\"sys\"][\"country\"]\n",
    "        # Convert the date to ISO standard.\n",
    "        city_date = datetime.utcfromtimestamp(city_weather[\"dt\"]).strftime('%Y-%m-%d %H:%M:%S')\n",
    "        # Append the city information into city_data list.\n",
    "        city_data.append({\"City\": city.title(),\n",
    "                          \"Lat\": city_lat,\n",
    "                          \"Lng\": city_lng,\n",
    "                          \"Max Temp\": city_max_temp,\n",
    "                          \"Humidity\": city_humidity,\n",
    "                          \"Cloudiness\": city_clouds,\n",
    "                          \"Wind Speed\": city_wind,\n",
    "                          \"Country\": city_country,\n",
    "                          \"Date\": city_date})\n",
    "\n",
    "# If an error is experienced, skip the city.\n",
    "except:\n",
    "        print(\"City not found. Skipping...\")\n",
    "        pass\n",
    "\n",
    "# Indicate that Data Loading is complete.\n",
    "print(\"-----------------------------\")\n",
    "print(\"Data Retrieval Complete      \")\n",
    "print(\"-----------------------------\")    "
   ]
  },
  {
   "cell_type": "code",
   "execution_count": 25,
   "id": "9b466a5f",
   "metadata": {},
   "outputs": [
    {
     "data": {
      "text/html": [
       "<div>\n",
       "<style scoped>\n",
       "    .dataframe tbody tr th:only-of-type {\n",
       "        vertical-align: middle;\n",
       "    }\n",
       "\n",
       "    .dataframe tbody tr th {\n",
       "        vertical-align: top;\n",
       "    }\n",
       "\n",
       "    .dataframe thead th {\n",
       "        text-align: right;\n",
       "    }\n",
       "</style>\n",
       "<table border=\"1\" class=\"dataframe\">\n",
       "  <thead>\n",
       "    <tr style=\"text-align: right;\">\n",
       "      <th></th>\n",
       "    </tr>\n",
       "  </thead>\n",
       "  <tbody>\n",
       "  </tbody>\n",
       "</table>\n",
       "</div>"
      ],
      "text/plain": [
       "Empty DataFrame\n",
       "Columns: []\n",
       "Index: []"
      ]
     },
     "execution_count": 25,
     "metadata": {},
     "output_type": "execute_result"
    }
   ],
   "source": [
    "city_data_df = pd.DataFrame(city_data)\n",
    "city_data_df.head(10)"
   ]
  },
  {
   "cell_type": "code",
   "execution_count": 26,
   "id": "1bdcf6bb",
   "metadata": {},
   "outputs": [
    {
     "ename": "FileNotFoundError",
     "evalue": "[Errno 2] No such file or directory: 'weather_data/cities.csv'",
     "output_type": "error",
     "traceback": [
      "\u001b[1;31m---------------------------------------------------------------------------\u001b[0m",
      "\u001b[1;31mFileNotFoundError\u001b[0m                         Traceback (most recent call last)",
      "\u001b[1;32m~\\AppData\\Local\\Temp\\ipykernel_16704\\2180639805.py\u001b[0m in \u001b[0;36m<module>\u001b[1;34m\u001b[0m\n\u001b[0;32m      2\u001b[0m \u001b[0moutput_data_file\u001b[0m \u001b[1;33m=\u001b[0m \u001b[1;34m\"weather_data/cities.csv\"\u001b[0m\u001b[1;33m\u001b[0m\u001b[1;33m\u001b[0m\u001b[0m\n\u001b[0;32m      3\u001b[0m \u001b[1;31m#Export the City_Data into a csv\u001b[0m\u001b[1;33m\u001b[0m\u001b[1;33m\u001b[0m\u001b[1;33m\u001b[0m\u001b[0m\n\u001b[1;32m----> 4\u001b[1;33m \u001b[0mcity_data_df\u001b[0m\u001b[1;33m.\u001b[0m\u001b[0mto_csv\u001b[0m\u001b[1;33m(\u001b[0m\u001b[0moutput_data_file\u001b[0m\u001b[1;33m,\u001b[0m \u001b[0mindex_label\u001b[0m\u001b[1;33m=\u001b[0m\u001b[1;34m\"City_ID\"\u001b[0m\u001b[1;33m)\u001b[0m\u001b[1;33m\u001b[0m\u001b[1;33m\u001b[0m\u001b[0m\n\u001b[0m",
      "\u001b[1;32m~\\anaconda3\\envs\\PythonData\\lib\\site-packages\\pandas\\core\\generic.py\u001b[0m in \u001b[0;36mto_csv\u001b[1;34m(self, path_or_buf, sep, na_rep, float_format, columns, header, index, index_label, mode, encoding, compression, quoting, quotechar, line_terminator, chunksize, date_format, doublequote, escapechar, decimal, errors, storage_options)\u001b[0m\n\u001b[0;32m   3480\u001b[0m             \u001b[0mdoublequote\u001b[0m\u001b[1;33m=\u001b[0m\u001b[0mdoublequote\u001b[0m\u001b[1;33m,\u001b[0m\u001b[1;33m\u001b[0m\u001b[1;33m\u001b[0m\u001b[0m\n\u001b[0;32m   3481\u001b[0m             \u001b[0mescapechar\u001b[0m\u001b[1;33m=\u001b[0m\u001b[0mescapechar\u001b[0m\u001b[1;33m,\u001b[0m\u001b[1;33m\u001b[0m\u001b[1;33m\u001b[0m\u001b[0m\n\u001b[1;32m-> 3482\u001b[1;33m             \u001b[0mstorage_options\u001b[0m\u001b[1;33m=\u001b[0m\u001b[0mstorage_options\u001b[0m\u001b[1;33m,\u001b[0m\u001b[1;33m\u001b[0m\u001b[1;33m\u001b[0m\u001b[0m\n\u001b[0m\u001b[0;32m   3483\u001b[0m         )\n\u001b[0;32m   3484\u001b[0m \u001b[1;33m\u001b[0m\u001b[0m\n",
      "\u001b[1;32m~\\anaconda3\\envs\\PythonData\\lib\\site-packages\\pandas\\io\\formats\\format.py\u001b[0m in \u001b[0;36mto_csv\u001b[1;34m(self, path_or_buf, encoding, sep, columns, index_label, mode, compression, quoting, quotechar, line_terminator, chunksize, date_format, doublequote, escapechar, errors, storage_options)\u001b[0m\n\u001b[0;32m   1103\u001b[0m             \u001b[0mformatter\u001b[0m\u001b[1;33m=\u001b[0m\u001b[0mself\u001b[0m\u001b[1;33m.\u001b[0m\u001b[0mfmt\u001b[0m\u001b[1;33m,\u001b[0m\u001b[1;33m\u001b[0m\u001b[1;33m\u001b[0m\u001b[0m\n\u001b[0;32m   1104\u001b[0m         )\n\u001b[1;32m-> 1105\u001b[1;33m         \u001b[0mcsv_formatter\u001b[0m\u001b[1;33m.\u001b[0m\u001b[0msave\u001b[0m\u001b[1;33m(\u001b[0m\u001b[1;33m)\u001b[0m\u001b[1;33m\u001b[0m\u001b[1;33m\u001b[0m\u001b[0m\n\u001b[0m\u001b[0;32m   1106\u001b[0m \u001b[1;33m\u001b[0m\u001b[0m\n\u001b[0;32m   1107\u001b[0m         \u001b[1;32mif\u001b[0m \u001b[0mcreated_buffer\u001b[0m\u001b[1;33m:\u001b[0m\u001b[1;33m\u001b[0m\u001b[1;33m\u001b[0m\u001b[0m\n",
      "\u001b[1;32m~\\anaconda3\\envs\\PythonData\\lib\\site-packages\\pandas\\io\\formats\\csvs.py\u001b[0m in \u001b[0;36msave\u001b[1;34m(self)\u001b[0m\n\u001b[0;32m    241\u001b[0m             \u001b[0merrors\u001b[0m\u001b[1;33m=\u001b[0m\u001b[0mself\u001b[0m\u001b[1;33m.\u001b[0m\u001b[0merrors\u001b[0m\u001b[1;33m,\u001b[0m\u001b[1;33m\u001b[0m\u001b[1;33m\u001b[0m\u001b[0m\n\u001b[0;32m    242\u001b[0m             \u001b[0mcompression\u001b[0m\u001b[1;33m=\u001b[0m\u001b[0mself\u001b[0m\u001b[1;33m.\u001b[0m\u001b[0mcompression\u001b[0m\u001b[1;33m,\u001b[0m\u001b[1;33m\u001b[0m\u001b[1;33m\u001b[0m\u001b[0m\n\u001b[1;32m--> 243\u001b[1;33m             \u001b[0mstorage_options\u001b[0m\u001b[1;33m=\u001b[0m\u001b[0mself\u001b[0m\u001b[1;33m.\u001b[0m\u001b[0mstorage_options\u001b[0m\u001b[1;33m,\u001b[0m\u001b[1;33m\u001b[0m\u001b[1;33m\u001b[0m\u001b[0m\n\u001b[0m\u001b[0;32m    244\u001b[0m         ) as handles:\n\u001b[0;32m    245\u001b[0m \u001b[1;33m\u001b[0m\u001b[0m\n",
      "\u001b[1;32m~\\anaconda3\\envs\\PythonData\\lib\\site-packages\\pandas\\io\\common.py\u001b[0m in \u001b[0;36mget_handle\u001b[1;34m(path_or_buf, mode, encoding, compression, memory_map, is_text, errors, storage_options)\u001b[0m\n\u001b[0;32m    705\u001b[0m                 \u001b[0mencoding\u001b[0m\u001b[1;33m=\u001b[0m\u001b[0mioargs\u001b[0m\u001b[1;33m.\u001b[0m\u001b[0mencoding\u001b[0m\u001b[1;33m,\u001b[0m\u001b[1;33m\u001b[0m\u001b[1;33m\u001b[0m\u001b[0m\n\u001b[0;32m    706\u001b[0m                 \u001b[0merrors\u001b[0m\u001b[1;33m=\u001b[0m\u001b[0merrors\u001b[0m\u001b[1;33m,\u001b[0m\u001b[1;33m\u001b[0m\u001b[1;33m\u001b[0m\u001b[0m\n\u001b[1;32m--> 707\u001b[1;33m                 \u001b[0mnewline\u001b[0m\u001b[1;33m=\u001b[0m\u001b[1;34m\"\"\u001b[0m\u001b[1;33m,\u001b[0m\u001b[1;33m\u001b[0m\u001b[1;33m\u001b[0m\u001b[0m\n\u001b[0m\u001b[0;32m    708\u001b[0m             )\n\u001b[0;32m    709\u001b[0m         \u001b[1;32melse\u001b[0m\u001b[1;33m:\u001b[0m\u001b[1;33m\u001b[0m\u001b[1;33m\u001b[0m\u001b[0m\n",
      "\u001b[1;31mFileNotFoundError\u001b[0m: [Errno 2] No such file or directory: 'weather_data/cities.csv'"
     ]
    }
   ],
   "source": [
    "#Create the output file\n",
    "output_data_file = \"weather_data/cities.csv\"\n",
    "#Export the City_Data into a csv\n",
    "city_data_df.to_csv(output_data_file, index_label=\"City_ID\")"
   ]
  },
  {
   "cell_type": "code",
   "execution_count": null,
   "id": "938bf7f0",
   "metadata": {},
   "outputs": [],
   "source": []
  }
 ],
 "metadata": {
  "kernelspec": {
   "display_name": "PythonData",
   "language": "python",
   "name": "pythondata"
  },
  "language_info": {
   "codemirror_mode": {
    "name": "ipython",
    "version": 3
   },
   "file_extension": ".py",
   "mimetype": "text/x-python",
   "name": "python",
   "nbconvert_exporter": "python",
   "pygments_lexer": "ipython3",
   "version": "3.7.15"
  }
 },
 "nbformat": 4,
 "nbformat_minor": 5
}
